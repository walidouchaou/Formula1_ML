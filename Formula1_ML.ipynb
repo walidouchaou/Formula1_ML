{
 "cells": [
  {
   "cell_type": "markdown",
   "metadata": {},
   "source": [
    "**importer librairies python**"
   ]
  },
  {
   "cell_type": "code",
   "execution_count": 2,
   "metadata": {},
   "outputs": [],
   "source": [
    "import numpy as np # linear algebra\n",
    "import pandas as pd # data processing, CSV file I/O (e.g. pd.read_csv)\n",
    "import matplotlib.pyplot as plt\n",
    "from sklearn.model_selection import train_test_split\n",
    "from sklearn.linear_model import LinearRegression\n",
    "from sklearn import linear_model\n",
    "from sklearn.metrics import mean_absolute_percentage_error"
   ]
  },
  {
   "cell_type": "markdown",
   "metadata": {},
   "source": [
    "lire les fichier csv dans un dataframe "
   ]
  },
  {
   "cell_type": "code",
   "execution_count": 4,
   "metadata": {},
   "outputs": [],
   "source": [
    "circuits = pd.read_csv('./dataSet/archive (1)//circuits.csv')\n",
    "constructorResults = pd.read_csv('./dataSet/archive (1)//constructor_results.csv')\n",
    "constructorStandings = pd.read_csv('./dataSet/archive (1)//constructor_standings.csv')\n",
    "constructor = pd.read_csv('./dataSet/archive (1)//constructors.csv')\n",
    "driverStandings = pd.read_csv('./dataSet/archive (1)//driver_standings.csv')\n",
    "drivers= pd.read_csv('./dataSet/archive (1)//drivers.csv')\n",
    "lapTimes = pd.read_csv('./dataSet/archive (1)//lap_times.csv')\n",
    "pitStops = pd.read_csv('./dataSet/archive (1)//pit_stops.csv')\n",
    "qualifiying = pd.read_csv('./dataSet/archive (1)//qualifying.csv')\n",
    "race = pd.read_csv('./dataSet/archive (1)//races.csv')\n",
    "results = pd.read_csv('./dataSet/archive (1)//results.csv')\n",
    "seasons = pd.read_csv('./dataSet/archive (1)//seasons.csv')\n",
    "sprintResults = pd.read_csv('./dataSet/archive (1)//sprint_results.csv')\n",
    "status= pd.read_csv('./dataSet/archive (1)//status.csv')\n"
   ]
  },
  {
   "cell_type": "code",
   "execution_count": null,
   "metadata": {},
   "outputs": [],
   "source": []
  }
 ],
 "metadata": {
  "kernelspec": {
   "display_name": "BigData",
   "language": "python",
   "name": "python3"
  },
  "language_info": {
   "codemirror_mode": {
    "name": "ipython",
    "version": 3
   },
   "file_extension": ".py",
   "mimetype": "text/x-python",
   "name": "python",
   "nbconvert_exporter": "python",
   "pygments_lexer": "ipython3",
   "version": "3.11.5"
  }
 },
 "nbformat": 4,
 "nbformat_minor": 2
}
